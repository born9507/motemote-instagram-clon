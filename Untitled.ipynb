{
 "cells": [
  {
   "cell_type": "code",
   "execution_count": 2,
   "id": "73065906",
   "metadata": {},
   "outputs": [],
   "source": [
    "import os\n",
    "import django\n",
    "os.environ.setdefault('DJANGO_SETTINGS_MODULE', 'rest.settings')\n",
    "os.environ[\"DJANGO_ALLOW_ASYNC_UNSAFE\"] = \"true\"\n",
    "django.setup()"
   ]
  },
  {
   "cell_type": "code",
   "execution_count": 7,
   "id": "4ce4ebbb",
   "metadata": {},
   "outputs": [
    {
     "data": {
      "text/plain": [
       "<Comment: [feed: content1] comment 2>"
      ]
     },
     "execution_count": 7,
     "metadata": {},
     "output_type": "execute_result"
    }
   ],
   "source": [
    "from feeds.models import Feed, Comment\n",
    "feed = Feed.objects.create(content='content1')\n",
    "Comment.objects.create(feed=feed, content='comment 1')\n",
    "Comment.objects.create(feed=feed, content='comment 2')"
   ]
  },
  {
   "cell_type": "code",
   "execution_count": 14,
   "id": "6b646025",
   "metadata": {},
   "outputs": [
    {
     "data": {
      "text/plain": [
       "<Comment: [feed: content1] comment 3>"
      ]
     },
     "execution_count": 14,
     "metadata": {},
     "output_type": "execute_result"
    }
   ],
   "source": [
    "Comment.objects.create(feed_id=feed.id, content='comment 3')"
   ]
  },
  {
   "cell_type": "code",
   "execution_count": 12,
   "id": "9056bc3f",
   "metadata": {},
   "outputs": [
    {
     "data": {
      "text/plain": [
       "<QuerySet [<Comment: [feed: content1] comment 1>, <Comment: [feed: content1] comment 2>, <Comment: [feed: 게시글] comment 3>]>"
      ]
     },
     "execution_count": 12,
     "metadata": {},
     "output_type": "execute_result"
    }
   ],
   "source": [
    "Comment.objects.all()"
   ]
  },
  {
   "cell_type": "code",
   "execution_count": null,
   "id": "38743491",
   "metadata": {},
   "outputs": [],
   "source": [
    "from accounts.models import Profile\n",
    "Profile.objects.all()\n",
    "\n",
    "\n",
    "\n",
    "print(Feed.objects.all())\n",
    "\n",
    "Feed.objects.create(content='hahaha')"
   ]
  },
  {
   "cell_type": "code",
   "execution_count": null,
   "id": "cb93bc2e",
   "metadata": {},
   "outputs": [],
   "source": [
    "food = \"Python\\'s favorite \\\"\\\" food is perl\"\n",
    "print(food)\n"
   ]
  },
  {
   "cell_type": "code",
   "execution_count": null,
   "id": "aa939658",
   "metadata": {},
   "outputs": [],
   "source": [
    "name = 'sangwon'\n",
    "print(f\"안녕하세요 {name} 입니다\")\n",
    "print(\"안녕하세요 %s 입니다\" % name)"
   ]
  },
  {
   "cell_type": "code",
   "execution_count": null,
   "id": "8a2423a3",
   "metadata": {},
   "outputs": [],
   "source": [
    "# 리스트 배열\n",
    "a = [1, 2, 3, 4, 5]\n",
    "\n",
    "# 튜플 (수정 불가능한 배열)\n",
    "b = (1, 2, 3, 4, 5)\n",
    "\n",
    "\n",
    "# 딕셔너리\n",
    "c = {'a': 'apple', 'b': 'banana'}\n",
    "print(c['a'])\n",
    "print(c['b'])\n",
    "\n",
    "\n",
    "# 집합 (Set)\n",
    "d = {1, 2, 3, 4, 5, 1, 2, 3, 4, 5}\n",
    "print(d)\n",
    "\n",
    "\n",
    "\n",
    "print()"
   ]
  },
  {
   "cell_type": "code",
   "execution_count": null,
   "id": "1f2e9547",
   "metadata": {},
   "outputs": [],
   "source": [
    "str(User.objects.all().query)"
   ]
  }
 ],
 "metadata": {
  "kernelspec": {
   "display_name": "Django Shell-Plus",
   "language": "python",
   "name": "django_extensions"
  },
  "language_info": {
   "codemirror_mode": {
    "name": "ipython",
    "version": 3
   },
   "file_extension": ".py",
   "mimetype": "text/x-python",
   "name": "python",
   "nbconvert_exporter": "python",
   "pygments_lexer": "ipython3",
   "version": "3.8.9"
  }
 },
 "nbformat": 4,
 "nbformat_minor": 5
}
